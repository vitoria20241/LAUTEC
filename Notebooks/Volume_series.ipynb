{
 "cells": [
  {
   "cell_type": "code",
   "execution_count": 1,
   "id": "59f5d014-c3b5-4151-843d-27c77d9121ad",
   "metadata": {},
   "outputs": [],
   "source": [
    "import pandas as pd"
   ]
  },
  {
   "cell_type": "code",
   "execution_count": 2,
   "id": "ffb3ef4c-1985-49f3-9bcf-6cb525553a8b",
   "metadata": {},
   "outputs": [],
   "source": [
    "# Ler arquivos\n",
    "path_rendeiras = \"D:\\\\Downloads\\\\series_rendeiras.xlsx\"\n",
    "path_ponte = \"D:\\\\Downloads\\\\series_ponte.xlsx\"\n",
    "rendeiras = pd.read_excel(path_rendeiras).set_index('Data e hora')\n",
    "ponte = pd.read_excel(path_ponte).set_index('Data e hora')"
   ]
  },
  {
   "cell_type": "markdown",
   "id": "6688b208-1242-4264-be1b-6a0e3bedc97b",
   "metadata": {},
   "source": [
    "## Volume (L) para cálculo do ADP"
   ]
  },
  {
   "cell_type": "code",
   "execution_count": 3,
   "id": "d6f26e4a-af65-41f2-84fe-4416a464fb5d",
   "metadata": {},
   "outputs": [],
   "source": [
    "# Reorganizar \n",
    "rendeiras1 = rendeiras.drop('Data', axis='columns').resample('D').sum()\n",
    "ponte1 = ponte.drop('Data', axis='columns').resample('D').sum()"
   ]
  },
  {
   "cell_type": "code",
   "execution_count": 4,
   "id": "56ffce20-8df7-48f9-b95a-4d15b45c4e23",
   "metadata": {},
   "outputs": [],
   "source": [
    "# Coluna com o dia da semana\n",
    "rendeiras1['Dia da semana'] = rendeiras1.index.day_name()\n",
    "ponte1['Dia da semana'] = ponte1.index.day_name()"
   ]
  },
  {
   "cell_type": "code",
   "execution_count": 5,
   "id": "83f2b999-6e06-45b7-b40c-3369f3581973",
   "metadata": {},
   "outputs": [
    {
     "data": {
      "text/html": [
       "<div>\n",
       "<style scoped>\n",
       "    .dataframe tbody tr th:only-of-type {\n",
       "        vertical-align: middle;\n",
       "    }\n",
       "\n",
       "    .dataframe tbody tr th {\n",
       "        vertical-align: top;\n",
       "    }\n",
       "\n",
       "    .dataframe thead th {\n",
       "        text-align: right;\n",
       "    }\n",
       "</style>\n",
       "<table border=\"1\" class=\"dataframe\">\n",
       "  <thead>\n",
       "    <tr style=\"text-align: right;\">\n",
       "      <th></th>\n",
       "      <th>Vazão (L/s)</th>\n",
       "      <th>Intervalo de tempo (s)</th>\n",
       "      <th>Volume (L)</th>\n",
       "      <th>Dia da semana</th>\n",
       "    </tr>\n",
       "    <tr>\n",
       "      <th>Data e hora</th>\n",
       "      <th></th>\n",
       "      <th></th>\n",
       "      <th></th>\n",
       "      <th></th>\n",
       "    </tr>\n",
       "  </thead>\n",
       "  <tbody>\n",
       "    <tr>\n",
       "      <th>2023-10-25</th>\n",
       "      <td>7425.484041</td>\n",
       "      <td>86400.0</td>\n",
       "      <td>567749.999788</td>\n",
       "      <td>Wednesday</td>\n",
       "    </tr>\n",
       "    <tr>\n",
       "      <th>2023-10-26</th>\n",
       "      <td>7582.236836</td>\n",
       "      <td>86400.0</td>\n",
       "      <td>564056.784147</td>\n",
       "      <td>Thursday</td>\n",
       "    </tr>\n",
       "    <tr>\n",
       "      <th>2023-10-27</th>\n",
       "      <td>8157.563921</td>\n",
       "      <td>86400.0</td>\n",
       "      <td>566428.734824</td>\n",
       "      <td>Friday</td>\n",
       "    </tr>\n",
       "    <tr>\n",
       "      <th>2023-10-28</th>\n",
       "      <td>12009.468816</td>\n",
       "      <td>86400.0</td>\n",
       "      <td>822477.311117</td>\n",
       "      <td>Saturday</td>\n",
       "    </tr>\n",
       "  </tbody>\n",
       "</table>\n",
       "</div>"
      ],
      "text/plain": [
       "              Vazão (L/s)  Intervalo de tempo (s)     Volume (L) Dia da semana\n",
       "Data e hora                                                                   \n",
       "2023-10-25    7425.484041                 86400.0  567749.999788     Wednesday\n",
       "2023-10-26    7582.236836                 86400.0  564056.784147      Thursday\n",
       "2023-10-27    8157.563921                 86400.0  566428.734824        Friday\n",
       "2023-10-28   12009.468816                 86400.0  822477.311117      Saturday"
      ]
     },
     "execution_count": 5,
     "metadata": {},
     "output_type": "execute_result"
    }
   ],
   "source": [
    "rendeiras1.loc[(rendeiras1.index >= '2023-10-25')&(rendeiras1.index <= '2023-10-28')]"
   ]
  },
  {
   "cell_type": "code",
   "execution_count": 6,
   "id": "0f6da934-5a44-4cdc-96e7-80905836d96c",
   "metadata": {},
   "outputs": [
    {
     "data": {
      "text/html": [
       "<div>\n",
       "<style scoped>\n",
       "    .dataframe tbody tr th:only-of-type {\n",
       "        vertical-align: middle;\n",
       "    }\n",
       "\n",
       "    .dataframe tbody tr th {\n",
       "        vertical-align: top;\n",
       "    }\n",
       "\n",
       "    .dataframe thead th {\n",
       "        text-align: right;\n",
       "    }\n",
       "</style>\n",
       "<table border=\"1\" class=\"dataframe\">\n",
       "  <thead>\n",
       "    <tr style=\"text-align: right;\">\n",
       "      <th></th>\n",
       "      <th>Vazão (L/s)</th>\n",
       "      <th>Intervalo de tempo (s)</th>\n",
       "      <th>Volume (L)</th>\n",
       "      <th>Dia da semana</th>\n",
       "    </tr>\n",
       "    <tr>\n",
       "      <th>Data e hora</th>\n",
       "      <th></th>\n",
       "      <th></th>\n",
       "      <th></th>\n",
       "      <th></th>\n",
       "    </tr>\n",
       "  </thead>\n",
       "  <tbody>\n",
       "    <tr>\n",
       "      <th>2023-10-25</th>\n",
       "      <td>13124.006082</td>\n",
       "      <td>86400.0</td>\n",
       "      <td>9.244905e+05</td>\n",
       "      <td>Wednesday</td>\n",
       "    </tr>\n",
       "    <tr>\n",
       "      <th>2023-10-26</th>\n",
       "      <td>13316.118905</td>\n",
       "      <td>86400.0</td>\n",
       "      <td>9.109226e+05</td>\n",
       "      <td>Thursday</td>\n",
       "    </tr>\n",
       "    <tr>\n",
       "      <th>2023-10-27</th>\n",
       "      <td>13569.966672</td>\n",
       "      <td>86400.0</td>\n",
       "      <td>9.463452e+05</td>\n",
       "      <td>Friday</td>\n",
       "    </tr>\n",
       "    <tr>\n",
       "      <th>2023-10-28</th>\n",
       "      <td>16938.555444</td>\n",
       "      <td>86400.0</td>\n",
       "      <td>1.259817e+06</td>\n",
       "      <td>Saturday</td>\n",
       "    </tr>\n",
       "  </tbody>\n",
       "</table>\n",
       "</div>"
      ],
      "text/plain": [
       "              Vazão (L/s)  Intervalo de tempo (s)    Volume (L) Dia da semana\n",
       "Data e hora                                                                  \n",
       "2023-10-25   13124.006082                 86400.0  9.244905e+05     Wednesday\n",
       "2023-10-26   13316.118905                 86400.0  9.109226e+05      Thursday\n",
       "2023-10-27   13569.966672                 86400.0  9.463452e+05        Friday\n",
       "2023-10-28   16938.555444                 86400.0  1.259817e+06      Saturday"
      ]
     },
     "execution_count": 6,
     "metadata": {},
     "output_type": "execute_result"
    }
   ],
   "source": [
    "ponte1.loc[(ponte1.index >= '2023-10-25')&(ponte1.index <= '2023-10-28')]"
   ]
  },
  {
   "cell_type": "markdown",
   "id": "dfa1abf0-430c-4614-8307-09756620a102",
   "metadata": {},
   "source": [
    "## Volume (L) para cálculo do ADP2"
   ]
  },
  {
   "cell_type": "code",
   "execution_count": 7,
   "id": "35640f9a-8283-4311-93ca-373a07b049e4",
   "metadata": {},
   "outputs": [],
   "source": [
    "# Reorganizar para ADP2\n",
    "rendeiras2 = rendeiras.drop('Data', axis='columns')\n",
    "rendeiras2.index = rendeiras2.index - pd.Timedelta(hours=23)\n",
    "rendeiras2['date_group'] = rendeiras2.index.date\n",
    "rendeiras2 = rendeiras2.groupby('date_group').sum()\n",
    "rendeiras2.index = pd.to_datetime(rendeiras2.index)\n",
    "rendeiras2.index = rendeiras2.index + pd.Timedelta(days=1) \n",
    "\n",
    "ponte2 = ponte.drop('Data', axis='columns')\n",
    "ponte2.index = ponte2.index - pd.Timedelta(hours=23)\n",
    "ponte2['date_group'] = ponte2.index.date\n",
    "ponte2 = ponte2.groupby('date_group').sum()\n",
    "ponte2.index = pd.to_datetime(ponte2.index)\n",
    "ponte2.index = ponte2.index + pd.Timedelta(days=1) "
   ]
  },
  {
   "cell_type": "code",
   "execution_count": 8,
   "id": "efa341ad-028d-44f5-ac89-9b3412f5401e",
   "metadata": {},
   "outputs": [
    {
     "data": {
      "text/html": [
       "<div>\n",
       "<style scoped>\n",
       "    .dataframe tbody tr th:only-of-type {\n",
       "        vertical-align: middle;\n",
       "    }\n",
       "\n",
       "    .dataframe tbody tr th {\n",
       "        vertical-align: top;\n",
       "    }\n",
       "\n",
       "    .dataframe thead th {\n",
       "        text-align: right;\n",
       "    }\n",
       "</style>\n",
       "<table border=\"1\" class=\"dataframe\">\n",
       "  <thead>\n",
       "    <tr style=\"text-align: right;\">\n",
       "      <th></th>\n",
       "      <th>Vazão (L/s)</th>\n",
       "      <th>Intervalo de tempo (s)</th>\n",
       "      <th>Volume (L)</th>\n",
       "    </tr>\n",
       "    <tr>\n",
       "      <th>date_group</th>\n",
       "      <th></th>\n",
       "      <th></th>\n",
       "      <th></th>\n",
       "    </tr>\n",
       "  </thead>\n",
       "  <tbody>\n",
       "    <tr>\n",
       "      <th>2023-10-25</th>\n",
       "      <td>7508.433765</td>\n",
       "      <td>86400.0</td>\n",
       "      <td>568413.080803</td>\n",
       "    </tr>\n",
       "    <tr>\n",
       "      <th>2023-10-26</th>\n",
       "      <td>7484.985221</td>\n",
       "      <td>86400.0</td>\n",
       "      <td>560958.817266</td>\n",
       "    </tr>\n",
       "    <tr>\n",
       "      <th>2023-10-27</th>\n",
       "      <td>8105.438083</td>\n",
       "      <td>86400.0</td>\n",
       "      <td>564543.235458</td>\n",
       "    </tr>\n",
       "    <tr>\n",
       "      <th>2023-10-28</th>\n",
       "      <td>11816.190263</td>\n",
       "      <td>86400.0</td>\n",
       "      <td>808097.259155</td>\n",
       "    </tr>\n",
       "  </tbody>\n",
       "</table>\n",
       "</div>"
      ],
      "text/plain": [
       "             Vazão (L/s)  Intervalo de tempo (s)     Volume (L)\n",
       "date_group                                                     \n",
       "2023-10-25   7508.433765                 86400.0  568413.080803\n",
       "2023-10-26   7484.985221                 86400.0  560958.817266\n",
       "2023-10-27   8105.438083                 86400.0  564543.235458\n",
       "2023-10-28  11816.190263                 86400.0  808097.259155"
      ]
     },
     "execution_count": 8,
     "metadata": {},
     "output_type": "execute_result"
    }
   ],
   "source": [
    "rendeiras2.loc[(rendeiras2.index >= '2023-10-25')&(rendeiras2.index <= '2023-10-28')]"
   ]
  },
  {
   "cell_type": "code",
   "execution_count": 9,
   "id": "c5cde6c3-cf36-45ec-bc39-ba68d2559157",
   "metadata": {},
   "outputs": [
    {
     "data": {
      "text/html": [
       "<div>\n",
       "<style scoped>\n",
       "    .dataframe tbody tr th:only-of-type {\n",
       "        vertical-align: middle;\n",
       "    }\n",
       "\n",
       "    .dataframe tbody tr th {\n",
       "        vertical-align: top;\n",
       "    }\n",
       "\n",
       "    .dataframe thead th {\n",
       "        text-align: right;\n",
       "    }\n",
       "</style>\n",
       "<table border=\"1\" class=\"dataframe\">\n",
       "  <thead>\n",
       "    <tr style=\"text-align: right;\">\n",
       "      <th></th>\n",
       "      <th>Vazão (L/s)</th>\n",
       "      <th>Intervalo de tempo (s)</th>\n",
       "      <th>Volume (L)</th>\n",
       "    </tr>\n",
       "    <tr>\n",
       "      <th>date_group</th>\n",
       "      <th></th>\n",
       "      <th></th>\n",
       "      <th></th>\n",
       "    </tr>\n",
       "  </thead>\n",
       "  <tbody>\n",
       "    <tr>\n",
       "      <th>2023-10-25</th>\n",
       "      <td>13235.562887</td>\n",
       "      <td>86400.0</td>\n",
       "      <td>9.279048e+05</td>\n",
       "    </tr>\n",
       "    <tr>\n",
       "      <th>2023-10-26</th>\n",
       "      <td>13225.931669</td>\n",
       "      <td>86400.0</td>\n",
       "      <td>9.092697e+05</td>\n",
       "    </tr>\n",
       "    <tr>\n",
       "      <th>2023-10-27</th>\n",
       "      <td>13520.144007</td>\n",
       "      <td>86400.0</td>\n",
       "      <td>9.401302e+05</td>\n",
       "    </tr>\n",
       "    <tr>\n",
       "      <th>2023-10-28</th>\n",
       "      <td>16673.114423</td>\n",
       "      <td>86400.0</td>\n",
       "      <td>1.233657e+06</td>\n",
       "    </tr>\n",
       "  </tbody>\n",
       "</table>\n",
       "</div>"
      ],
      "text/plain": [
       "             Vazão (L/s)  Intervalo de tempo (s)    Volume (L)\n",
       "date_group                                                    \n",
       "2023-10-25  13235.562887                 86400.0  9.279048e+05\n",
       "2023-10-26  13225.931669                 86400.0  9.092697e+05\n",
       "2023-10-27  13520.144007                 86400.0  9.401302e+05\n",
       "2023-10-28  16673.114423                 86400.0  1.233657e+06"
      ]
     },
     "execution_count": 9,
     "metadata": {},
     "output_type": "execute_result"
    }
   ],
   "source": [
    "ponte2.loc[(ponte2.index >= '2023-10-25')&(ponte2.index <= '2023-10-28')]"
   ]
  }
 ],
 "metadata": {
  "kernelspec": {
   "display_name": "Python 3 (ipykernel)",
   "language": "python",
   "name": "python3"
  },
  "language_info": {
   "codemirror_mode": {
    "name": "ipython",
    "version": 3
   },
   "file_extension": ".py",
   "mimetype": "text/x-python",
   "name": "python",
   "nbconvert_exporter": "python",
   "pygments_lexer": "ipython3",
   "version": "3.11.8"
  }
 },
 "nbformat": 4,
 "nbformat_minor": 5
}
