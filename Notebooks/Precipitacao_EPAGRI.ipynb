{
 "cells": [
  {
   "cell_type": "markdown",
   "id": "65c6ecc4-6a70-4372-9b72-07fe646ddad8",
   "metadata": {},
   "source": [
    "# Precipitação EPAGRI\n",
    "Foram somadas as precipitações de 1h às 0h do dia seguinte.\n",
    "## Período de 20/09/2023 a 31/12/2023:"
   ]
  },
  {
   "cell_type": "code",
   "execution_count": 1,
   "id": "3c5a973d-3c32-4930-92bf-dab9703528ce",
   "metadata": {},
   "outputs": [],
   "source": [
    "import pandas as pd\n",
    "import matplotlib.pyplot as plt\n",
    "from matplotlib.colors import LinearSegmentedColormap, Normalize \n",
    "import numpy as np\n",
    "import calplot"
   ]
  },
  {
   "cell_type": "code",
   "execution_count": 2,
   "id": "5e3d1dad-3e04-4dcf-85c1-0596a6433649",
   "metadata": {},
   "outputs": [
    {
     "name": "stdout",
     "output_type": "stream",
     "text": [
      "<class 'pandas.core.frame.DataFrame'>\n",
      "DatetimeIndex: 2472 entries, 2023-09-20 01:00:00 to 2024-01-01 00:00:00\n",
      "Data columns (total 1 columns):\n",
      " #   Column  Non-Null Count  Dtype  \n",
      "---  ------  --------------  -----  \n",
      " 0   Dado    2472 non-null   float64\n",
      "dtypes: float64(1)\n",
      "memory usage: 38.6 KB\n"
     ]
    }
   ],
   "source": [
    "# Carregar dados\n",
    "pasta = 'C:\\\\ENS\\\\LAUTEC'\n",
    "dados = pd.read_excel(pasta+'\\\\Inputs\\\\prec horario.xlsx',\n",
    "                      header=8).set_index('Data')\n",
    "dados.info()"
   ]
  },
  {
   "cell_type": "code",
   "execution_count": 3,
   "id": "f51cbe05-b051-4339-a1ed-83e93e23db99",
   "metadata": {},
   "outputs": [
    {
     "data": {
      "text/plain": [
       "'\\ndatas = pd.date_range(start=\\'2023-09-20 01:00:00\\', end=\\'2024-01-01 00:00:00\\', freq=\\'h\\')\\nhoras_index = datas.strftime(\"%Y-%m-%d %H:%M\")\\nhoras_df = dados.index.strftime(\"%Y-%m-%d %H:%M\")\\nhoras_faltantes = horas_index.difference(horas_df)\\nhoras_faltantes\\n'"
      ]
     },
     "execution_count": 3,
     "metadata": {},
     "output_type": "execute_result"
    }
   ],
   "source": [
    "# Verificar se há dados faltantes\n",
    "'''\n",
    "datas = pd.date_range(start='2023-09-20 01:00:00', end='2024-01-01 00:00:00', freq='h')\n",
    "horas_index = datas.strftime(\"%Y-%m-%d %H:%M\")\n",
    "horas_df = dados.index.strftime(\"%Y-%m-%d %H:%M\")\n",
    "horas_faltantes = horas_index.difference(horas_df)\n",
    "horas_faltantes\n",
    "'''"
   ]
  },
  {
   "cell_type": "code",
   "execution_count": 4,
   "id": "d8242601-441a-4556-b6dd-e70e708c1ed2",
   "metadata": {},
   "outputs": [],
   "source": [
    "dados = dados.reset_index().drop('Data', axis='columns')"
   ]
  },
  {
   "cell_type": "code",
   "execution_count": 5,
   "id": "b3959feb-0f71-4bc1-9521-9e9bd525d2ac",
   "metadata": {},
   "outputs": [],
   "source": [
    "# Somar os dados em intervalos de 24h (24 linhas)\n",
    "soma1 = dados.groupby(dados.index//24).sum()\n",
    "soma1 = soma1.set_index(\n",
    "    (pd.date_range('2023-09-20', '2023-12-31', freq='D')).date) "
   ]
  },
  {
   "cell_type": "markdown",
   "id": "16671994-d4ad-4152-a6bb-3e130a32246c",
   "metadata": {},
   "source": [
    "## Período de 01/01/2024 a 16/11/2024:"
   ]
  },
  {
   "cell_type": "code",
   "execution_count": 6,
   "id": "d43683b7-b264-4ef6-819c-7d5bb516e602",
   "metadata": {},
   "outputs": [
    {
     "name": "stdout",
     "output_type": "stream",
     "text": [
      "<class 'pandas.core.frame.DataFrame'>\n",
      "DatetimeIndex: 7704 entries, 2024-01-01 01:00:00 to 2024-11-17 00:00:00\n",
      "Data columns (total 1 columns):\n",
      " #   Column  Non-Null Count  Dtype \n",
      "---  ------  --------------  ----- \n",
      " 0   Dado    7704 non-null   object\n",
      "dtypes: object(1)\n",
      "memory usage: 120.4+ KB\n"
     ]
    }
   ],
   "source": [
    "# Carregar dados\n",
    "dados = pd.read_excel(\n",
    "    pasta+'\\\\Inputs\\\\DH2024_Pricila Campos-EST-Fpolis-10-2024_Fabricio.xls',\n",
    "    header=8)\n",
    "dados['Data'] = pd.to_datetime(dados['Data'], format='%d/%m/%Y %H:%M') \n",
    "dados = dados.set_index('Data')\n",
    "dados.info()"
   ]
  },
  {
   "cell_type": "code",
   "execution_count": 7,
   "id": "6902778c-6907-418f-ab2f-84cef5133984",
   "metadata": {},
   "outputs": [
    {
     "data": {
      "text/plain": [
       "'\\ndatas = pd.date_range(start=\\'2024-01-01 01:00:00\\', end=\\'2024-11-17 00:00:00\\', freq=\\'h\\')\\nhoras_index = datas.strftime(\"%Y-%m-%d %H:%M\")\\nhoras_df = dados.index.strftime(\"%Y-%m-%d %H:%M\")\\nhoras_faltantes = horas_index.difference(horas_df)\\nhoras_faltantes\\n'"
      ]
     },
     "execution_count": 7,
     "metadata": {},
     "output_type": "execute_result"
    }
   ],
   "source": [
    "# Verificar se há dados faltantes\n",
    "'''\n",
    "datas = pd.date_range(start='2024-01-01 01:00:00', end='2024-11-17 00:00:00', freq='h')\n",
    "horas_index = datas.strftime(\"%Y-%m-%d %H:%M\")\n",
    "horas_df = dados.index.strftime(\"%Y-%m-%d %H:%M\")\n",
    "horas_faltantes = horas_index.difference(horas_df)\n",
    "horas_faltantes\n",
    "'''"
   ]
  },
  {
   "cell_type": "code",
   "execution_count": 8,
   "id": "d9f5adef-4888-4011-83f4-9a88e1e733c4",
   "metadata": {},
   "outputs": [],
   "source": [
    "dados = dados.replace('-', 'NaN').astype(float)\n",
    "dados = dados.reset_index().drop('Data', axis='columns')"
   ]
  },
  {
   "cell_type": "code",
   "execution_count": 9,
   "id": "e40549d7-b21f-41da-a887-a04324342f1b",
   "metadata": {},
   "outputs": [],
   "source": [
    "# Somar os dados em intervalos de 24h (24 linhas)\n",
    "soma2 = dados.groupby(dados.index//24).sum()\n",
    "soma2 = soma2.set_index(\n",
    "    (pd.date_range('2024-01-01', '2024-11-16', freq='D')).date) "
   ]
  },
  {
   "cell_type": "markdown",
   "id": "2c1fb117-8c88-4014-b326-f02499e72ba1",
   "metadata": {},
   "source": [
    "# Mapas de calor/Heatmaps\n",
    "https://calplot.readthedocs.io/en/stable/ "
   ]
  },
  {
   "cell_type": "code",
   "execution_count": 10,
   "id": "275ab5fb-edde-4bf8-bee9-8ff3a4f81d6f",
   "metadata": {},
   "outputs": [],
   "source": [
    "# Unir os resultados encontrados anteriormente \n",
    "resultado = pd.concat([soma1, soma2]).reset_index()\n",
    "\n",
    "# Função para identificar os dias secos\n",
    "dia_seco = lambda oito_dias: all(prec<=4 for prec in oito_dias)\n",
    "\n",
    "# Aplicar função\n",
    "resultado['Dia seco'] = resultado[\n",
    "    'Dado'].rolling(window=8).apply(dia_seco) \n",
    "\n",
    "# Salvar planilha\n",
    "with pd.ExcelWriter(pasta+'\\\\Outputs\\\\prec_epagri_corrigido.xlsx') as writer:\n",
    "    resultado.to_excel(writer, sheet_name='Resultado')\n",
    "    soma1.to_excel(writer, sheet_name='2023') \n",
    "    soma2.to_excel(writer, sheet_name='2024') "
   ]
  },
  {
   "cell_type": "code",
   "execution_count": 11,
   "id": "f47f2e63-e427-4379-817d-8f18c5120b39",
   "metadata": {},
   "outputs": [],
   "source": [
    "# Rótulos personalizados/traduzidos\n",
    "daylabels = ['Seg', 'Ter', 'Qua', 'Qui', 'Sex', 'Sáb', 'Dom']\n",
    "monthlabels = ['Jan', 'Fev', 'Mar', 'Abr', 'Mai', 'Jun', \n",
    "               'Jul', 'Ago', 'Set', 'Out', 'Nov', 'Dez'] "
   ]
  },
  {
   "cell_type": "code",
   "execution_count": 12,
   "id": "c9a21195-a514-44cb-9bc6-7e25415a15bc",
   "metadata": {},
   "outputs": [],
   "source": [
    "# Criar categorias de precipitação para plotar \n",
    "def categoria(prec): \n",
    "    if prec <= 4: \n",
    "        return 2\n",
    "    elif prec>4 and prec<=10: \n",
    "        return 3 \n",
    "    else:\n",
    "        return 4\n",
    "        \n",
    "resultado['Categoria'] = resultado['Dado'].apply(categoria) \n",
    "\n",
    "# Nova categoria para identificar os dias secos\n",
    "for i in range(len(resultado)):\n",
    "    if resultado.loc[i, 'Dia seco'] == True:\n",
    "        resultado.loc[i, 'Categoria'] = 1\n",
    "    else:\n",
    "        continue\n",
    "resultado = resultado.set_index(pd.to_datetime(resultado['index'])) "
   ]
  },
  {
   "cell_type": "code",
   "execution_count": 13,
   "id": "16676a94-34a7-4d17-b601-f1024efed18f",
   "metadata": {},
   "outputs": [
    {
     "data": {
      "image/png": "[encoded data removed]",
      "text/plain": [
       "<Figure size 900x380 with 3 Axes>"
      ]
     },
     "metadata": {},
     "output_type": "display_data"
    }
   ],
   "source": [
    "# Heatmap \n",
    "cores = ['xkcd:pale peach', 'xkcd:cement', 'xkcd:browny orange', 'xkcd:dried blood']\n",
    "N = len(cores) \n",
    "cmap = LinearSegmentedColormap.from_list('', cores, N)\n",
    "\n",
    "fig, ax = calplot.calplot(resultado['Categoria'], \n",
    "                          how=None,\n",
    "                          cmap=cmap,\n",
    "                          colorbar=False,\n",
    "                          fillcolor='white', \n",
    "                          suptitle = 'Precipitação (mm)',\n",
    "                          suptitle_kws = {'fontsize': '18'},\n",
    "                          daylabels = daylabels,\n",
    "                          monthlabels = monthlabels,\n",
    "                          yearlabel_kws={'fontname':'sans'},\n",
    "                          figsize=(9,3.8))\n",
    "ax[0].tick_params(labelsize=11)\n",
    "ax[1].tick_params(labelsize=11)\n",
    "plt.subplots_adjust(hspace=0.2) \n",
    "\n",
    "# Colorbar personalizada \n",
    "norm = Normalize(vmin=0, vmax=1)  \n",
    "sm = plt.cm.ScalarMappable(cmap=cmap, norm=norm)\n",
    "sm.set_array([])  # Necessário para o colorbar funcionar\n",
    "\n",
    "bounds = np.linspace(0, 1, 5)  # 4 intervalos\n",
    "cbar = plt.colorbar(sm, \n",
    "                    ax = ax, \n",
    "                    boundaries = bounds, \n",
    "                    ticks = bounds[:-1]+(bounds[1]-bounds[0]) / 2,\n",
    "                    location = 'bottom',\n",
    "                    aspect = 60,\n",
    "                    pad = 0.1)\n",
    "\n",
    "cbar.set_ticklabels(['Dia seco', '0 a 4', '4 a 10', '10+'])\n",
    "cbar.ax.tick_params(labelsize=14)  \n",
    "\n",
    "plt.savefig(pasta+'\\\\Outputs\\\\precipitacao.png', bbox_inches='tight')"
   ]
  }
 ],
 "metadata": {
  "kernelspec": {
   "display_name": "Python 3 (ipykernel)",
   "language": "python",
   "name": "python3"
  },
  "language_info": {
   "codemirror_mode": {
    "name": "ipython",
    "version": 3
   },
   "file_extension": ".py",
   "mimetype": "text/x-python",
   "name": "python",
   "nbconvert_exporter": "python",
   "pygments_lexer": "ipython3",
   "version": "3.11.8"
  }
 },
 "nbformat": 4,
 "nbformat_minor": 5
}
