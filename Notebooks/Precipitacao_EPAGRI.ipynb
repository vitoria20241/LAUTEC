{
 "cells": [
  {
   "cell_type": "markdown",
   "id": "65c6ecc4-6a70-4372-9b72-07fe646ddad8",
   "metadata": {},
   "source": [
    "Foram somadas as precipitações de 1h às 0h do dia seguinte.\n",
    "## Período de 20/09/2023 a 31/12/2023:"
   ]
  },
  {
   "cell_type": "code",
   "execution_count": 1,
   "id": "3c5a973d-3c32-4930-92bf-dab9703528ce",
   "metadata": {},
   "outputs": [],
   "source": [
    "import pandas as pd"
   ]
  },
  {
   "cell_type": "code",
   "execution_count": 2,
   "id": "5e3d1dad-3e04-4dcf-85c1-0596a6433649",
   "metadata": {},
   "outputs": [],
   "source": [
    "# Carregar dados\n",
    "pasta = 'D:\\\\Downloads'\n",
    "dados = pd.read_excel(pasta+'\\\\prec horario.xlsx',\n",
    "                      header=8)\n",
    "dados = dados.drop('Data', axis='columns')\n",
    "dados = dados.replace('-', 'NaN').astype(float)\n",
    "#dados.info()"
   ]
  },
  {
   "cell_type": "code",
   "execution_count": 3,
   "id": "b3959feb-0f71-4bc1-9521-9e9bd525d2ac",
   "metadata": {},
   "outputs": [],
   "source": [
    "# Somar os dados em intervalos de 24h (24 linhas)\n",
    "soma1 = dados.groupby(dados.index//24).sum()\n",
    "soma1 = soma1.set_index(\n",
    "    (pd.date_range('2023-09-20', '2023-12-31', freq='D')).date) "
   ]
  },
  {
   "cell_type": "markdown",
   "id": "16671994-d4ad-4152-a6bb-3e130a32246c",
   "metadata": {},
   "source": [
    "## Período de 01/01/2024 a 16/11/2024:"
   ]
  },
  {
   "cell_type": "code",
   "execution_count": 4,
   "id": "d43683b7-b264-4ef6-819c-7d5bb516e602",
   "metadata": {},
   "outputs": [],
   "source": [
    "# Carregar dados\n",
    "dados = pd.read_excel(\n",
    "    pasta+'\\\\DH2024_Pricila Campos-EST-Fpolis-10-2024_Fabricio.xls',\n",
    "    header=8)\n",
    "dados = dados.drop('Data', axis='columns')\n",
    "dados = dados.replace('-', 'NaN').astype(float)\n",
    "#dados.info()"
   ]
  },
  {
   "cell_type": "code",
   "execution_count": 5,
   "id": "e40549d7-b21f-41da-a887-a04324342f1b",
   "metadata": {},
   "outputs": [],
   "source": [
    "# Somar os dados em intervalos de 24h (24 linhas)\n",
    "soma2 = dados.groupby(dados.index//24).sum()\n",
    "soma2 = soma2.set_index(\n",
    "    (pd.date_range('2024-01-01', '2024-11-16', freq='D')).date) "
   ]
  },
  {
   "cell_type": "code",
   "execution_count": 6,
   "id": "874d9e71-3256-4b27-b71e-7b02270629f6",
   "metadata": {},
   "outputs": [],
   "source": [
    "# Salvar arquivo\n",
    "with pd.ExcelWriter(pasta+'\\\\prec_epagri_corrigido.xlsx') as writer:\n",
    "    soma1.to_excel(writer, sheet_name='2023') \n",
    "    soma2.to_excel(writer, sheet_name='2024')"
   ]
  }
 ],
 "metadata": {
  "kernelspec": {
   "display_name": "Python 3 (ipykernel)",
   "language": "python",
   "name": "python3"
  },
  "language_info": {
   "codemirror_mode": {
    "name": "ipython",
    "version": 3
   },
   "file_extension": ".py",
   "mimetype": "text/x-python",
   "name": "python",
   "nbconvert_exporter": "python",
   "pygments_lexer": "ipython3",
   "version": "3.11.8"
  }
 },
 "nbformat": 4,
 "nbformat_minor": 5
}
